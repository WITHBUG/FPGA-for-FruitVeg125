{
 "cells": [
  {
   "cell_type": "code",
   "execution_count": 4,
   "metadata": {},
   "outputs": [],
   "source": [
    "# 随机对每个类别的预测数据集抽选一张图片\n",
    "import os\n",
    "import shutil\n",
    "import random\n",
    " \n",
    "#想要移动文件所在的根目录\n",
    "rootdir=\"./data/224/val\"\n",
    "#获取目录下文件名清单\n",
    "classes = os.listdir(rootdir)\n",
    "# print(classes)\n",
    " \n",
    "#移动图片到指定文件夹\n",
    "with open('./data/true_label_list.txt', 'w') as file:\n",
    "    for c in range(0, len(classes)):\n",
    "        path = os.path.join(rootdir, classes[c])\n",
    "\n",
    "        if os.path.isdir(path):  # 判断是否为文件夹\n",
    "            a = random.randint(1, len(os.listdir(path)))\n",
    "            item = os.listdir(path)[a-1]\n",
    "            full_path=os.path.join(path, item)  # 将文件目录与文件名连接起来，形成原来完整路径\n",
    "            select_path = \"./data/select_val/\"  # val路径\n",
    "            name = classes[c] + '_' + item\n",
    "            shutil.copy(full_path,select_path+name)  #移动文件到目标路径\n",
    "            print(classes[c], file=file)\n",
    "\t\t# for item in os.listdir(path): #遍历该文件夹中的所有文件\n",
    "\t\t# \tfull_path=os.path.join(path,item)  # 将文件目录与文件名连接起来，形成原来完整路径\n",
    "\t\t# \tdown_path = \"/home/zzh/Desktop/amd/data/224/val/\"  # val路径\n",
    "\t\t# \tname = classes[c] + '/' + item\n",
    "\t\t# \tshutil.copy(full_path,down_path+name)  #移动文件到目标路径\n"
   ]
  }
 ],
 "metadata": {
  "kernelspec": {
   "display_name": "base",
   "language": "python",
   "name": "python3"
  },
  "language_info": {
   "codemirror_mode": {
    "name": "ipython",
    "version": 3
   },
   "file_extension": ".py",
   "mimetype": "text/x-python",
   "name": "python",
   "nbconvert_exporter": "python",
   "pygments_lexer": "ipython3",
   "version": "3.10.0"
  },
  "orig_nbformat": 4
 },
 "nbformat": 4,
 "nbformat_minor": 2
}
