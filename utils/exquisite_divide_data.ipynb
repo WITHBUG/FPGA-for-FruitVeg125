{
 "cells": [
  {
   "cell_type": "code",
   "execution_count": 2,
   "metadata": {},
   "outputs": [],
   "source": [
    "# copy all data\n",
    "\n",
    "import os\n",
    "import shutil\n",
    " \n",
    "#想要移动文件所在的根目录\n",
    "rootdir=\"/media/zzh/Lexar/fruitveg81\"\n",
    "#获取目录下文件名清单\n",
    "classes = os.listdir(rootdir)\n",
    "# print(list)\n",
    " \n",
    "#移动图片到指定文件夹\n",
    "for c in range(0, len(classes)):\n",
    "\tpath0=os.path.join(rootdir, classes[c])\n",
    "\tlist = os.listdir(path0)\n",
    "\tfor i in range(0,len(list)):     #遍历目录下的所有一级文件夹  ['apple_red_yellow', 'apple_green_yellow', 'apple_red']\n",
    "\t\tpath=os.path.join(path0,list[i]) \n",
    "\t\tlist1 = os.listdir(path)  # 获取二级文件夹  ['braeburn', 'pink_lady', 'elstar', 'gala', 'red_loose', 'summerred'] ['granny_smith', 'golden_delicious'] ['evelina']\n",
    "\t\tfor j in range(0, len(list1)):  # 遍历所有二级目录\n",
    "\t\t\tlist2 = os.path.join(path, list1[j])\n",
    "\t\t\tlist3 = os.listdir(list2)\n",
    "\t\t\tfor k in range(0, len(list3)):\n",
    "\t\t\t\tlist4 = os.path.join(list2, list3[k])\n",
    "\t\t\t\t# print(list4)\n",
    "\t\t\t\tif os.path.isdir(list4):\t\t #判断是否为文件夹\n",
    "\t\t\t\t\tfor item in os.listdir(list4): #遍历该文件夹中的所有文件\n",
    "\t\t\t\t\t\tfull_path=os.path.join(list4,item) #将文件目录与文件名连接起来，形成原来完整路径\n",
    "\t\t\t\t\t\tdes_path=\"/home/zzh/Desktop/amd/data/exquisite/\"  #目标路径\n",
    "\t\t\t\t\t\tname = classes[c]+'_'+list[i]+'_'+list1[j]\n",
    "\t\t\t\t\t\tif not os.path.exists(des_path+name): os.mkdir(des_path+name)\n",
    "\t\t\t\t\t\tshutil.copy(full_path,des_path+name+ '/' + list3[k] + item)  #移动文件到目标路径"
   ]
  },
  {
   "cell_type": "code",
   "execution_count": 8,
   "metadata": {},
   "outputs": [],
   "source": [
    "# divide train and val\n",
    "import os\n",
    "import shutil\n",
    "import random\n",
    " \n",
    "#想要移动文件所在的根目录\n",
    "rootdir=\"/home/zzh/Desktop/amd/data/notfortrain_exquisite125\"\n",
    "#获取目录下文件名清单\n",
    "classes = os.listdir(rootdir)\n",
    "# print(classes)\n",
    "\n",
    "a = random.randint(1, 10)\n",
    "b = random.randint(1, 10)\n",
    " \n",
    "#移动图片到指定文件夹\n",
    "for c in range(0, len(classes)):\n",
    "\tpath = os.path.join(rootdir, classes[c])\n",
    "\t\n",
    "\t# list = os.listdir(path)\n",
    "\t# print(list)\n",
    "\tif os.path.isdir(path):  # 判断是否为文件夹\n",
    "\t\tfor item in os.listdir(path): #遍历该文件夹中的所有文件\n",
    "\t\t\tfull_path=os.path.join(path,item)  # 将文件目录与文件名连接起来，形成原来完整路径\n",
    "\t\t\ttrain_path = \"/home/zzh/Desktop/amd/data/exquisite125/train/\"  # train路径\n",
    "\t\t\tval_path = \"/home/zzh/Desktop/amd/data/exquisite125/val/\"  # val路径\n",
    "\t\t\tname = classes[c] + '/' + item\n",
    "\t\t\tif random.randint(1, 10) <= 8:\n",
    "\t\t\t\tif not os.path.exists(train_path+classes[c]): os.mkdir(train_path+classes[c])\n",
    "\t\t\t\tshutil.copy(full_path,train_path+name)  #移动文件到目标路径\n",
    "\t\t\telse:\n",
    "\t\t\t\tif not os.path.exists(val_path+classes[c]): os.mkdir(val_path+classes[c])\n",
    "\t\t\t\tshutil.copy(full_path,val_path+name)  #移动文件到目标路径\n"
   ]
  },
  {
   "cell_type": "code",
   "execution_count": 10,
   "metadata": {},
   "outputs": [
    {
     "name": "stdout",
     "output_type": "stream",
     "text": [
      "125\n",
      "[9.5, 7.0, 8.833333333333334, 10.666666666666666, 4.333333333333333, 1.0, 4.0, 12.5, 7.833333333333333, 7.666666666666667, 5.5, 18.166666666666668, 23.583333333333332, 5.166666666666667, 14.916666666666666, 19.583333333333332, 4.0, 14.333333333333334, 3.0, 10.0, 3.0, 15.833333333333334, 11.833333333333334, 16.666666666666668, 7.5, 18.333333333333332, 25.333333333333332, 18.416666666666668, 18.0, 7.833333333333333, 3.5, 9.833333333333334, 8.833333333333334, 5.666666666666667, 12.333333333333334, 9.666666666666666, 9.5, 11.833333333333334, 11.0, 9.333333333333334, 3.6666666666666665, 22.666666666666668, 4.666666666666667, 25.166666666666668, 11.833333333333334, 9.5, 8.833333333333334, 8.916666666666666, 13.5, 13.5, 7.833333333333333, 14.833333333333334, 9.166666666666666, 2.0, 1.0, 8.5, 9.166666666666666, 9.666666666666666, 7.5, 1.0, 13.833333333333334, 23.5, 6.583333333333333, 22.083333333333332, 6.0, 22.333333333333332, 2.0, 3.3333333333333335, 6.666666666666667, 6.833333333333333, 4.666666666666667, 9.416666666666666, 9.333333333333334, 3.0, 7.666666666666667, 3.0, 11.833333333333334, 8.0, 3.25, 14.583333333333334, 8.333333333333334, 20.666666666666668, 11.416666666666666, 10.333333333333334, 12.583333333333334, 23.583333333333332, 9.5, 2.9166666666666665, 8.833333333333334, 8.166666666666666, 13.583333333333334, 3.0, 14.666666666666666, 14.25, 15.583333333333334, 22.666666666666668, 16.0, 14.666666666666666, 7.333333333333333, 8.5, 2.6666666666666665, 3.0, 6.833333333333333, 20.25, 9.166666666666666, 11.833333333333334, 8.166666666666666, 7.5, 15.583333333333334, 10.0, 8.583333333333334, 6.0, 13.0, 23.333333333333332, 8.666666666666666, 3.0, 9.5, 7.916666666666667, 7.666666666666667, 14.0, 16.083333333333332, 8.833333333333334, 5.416666666666667, 10.583333333333334, 11.583333333333334]\n"
     ]
    }
   ],
   "source": [
    "# compute the number of every class\n",
    "import os\n",
    "import shutil\n",
    "import random\n",
    " \n",
    "#文件所在的根目录\n",
    "rootdir=\"/home/zzh/Desktop/amd/data/notfortrain_exquisite125\"\n",
    "#获取目录下文件名清单\n",
    "classes = os.listdir(rootdir)\n",
    "# print(classes)\n",
    "\n",
    "class_num = []\n",
    "\n",
    "#移动图片到指定文件夹\n",
    "for c in range(0, len(classes)):\n",
    "\tcnt = 0\n",
    "\tpath = os.path.join(rootdir, classes[c])\n",
    "\t# print(path)\n",
    "\tif os.path.isdir(path):  # 判断是否为文件夹\n",
    "\t\tfor item in os.listdir(path): #遍历该文件夹中的所有文件\n",
    "\t\t\t# print(item)  # red_beetred_beet_loosemotg-0img-0.jpg\n",
    "\t\t\tcnt = cnt + 1\n",
    "\t\tclass_num.append(cnt/12)\n",
    "\t\t\n",
    "print(len(class_num))\n",
    "print(class_num)\n",
    "\t\t\t"
   ]
  }
 ],
 "metadata": {
  "kernelspec": {
   "display_name": "base",
   "language": "python",
   "name": "python3"
  },
  "language_info": {
   "codemirror_mode": {
    "name": "ipython",
    "version": 3
   },
   "file_extension": ".py",
   "mimetype": "text/x-python",
   "name": "python",
   "nbconvert_exporter": "python",
   "pygments_lexer": "ipython3",
   "version": "3.10.9"
  },
  "orig_nbformat": 4
 },
 "nbformat": 4,
 "nbformat_minor": 2
}
