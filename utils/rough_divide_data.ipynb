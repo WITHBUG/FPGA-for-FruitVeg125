{
 "cells": [
  {
   "cell_type": "code",
   "execution_count": null,
   "metadata": {},
   "outputs": [],
   "source": [
    "# mode for copy apple data\n",
    "\n",
    "import os\n",
    "import shutil\n",
    " \n",
    "#想要移动文件所在的根目录\n",
    "rootdir=\"/home/zzh/Desktop/amd/data/fruitveg81/apples\"\n",
    "#获取目录下文件名清单\n",
    "list=os.listdir(rootdir)\n",
    "# print(list)\n",
    " \n",
    "#移动图片到指定文件夹\n",
    "for i in range(0,len(list)):     #遍历目录下的所有一级文件夹  ['apple_red_yellow', 'apple_green_yellow', 'apple_red']\n",
    "\tpath=os.path.join(rootdir,list[i])    \n",
    "\tlist1 = os.listdir(path)  # 获取二级文件夹  ['braeburn', 'pink_lady', 'elstar', 'gala', 'red_loose', 'summerred'] ['granny_smith', 'golden_delicious'] ['evelina']\n",
    "\t# print(list1)\n",
    "\tfor j in range(0, len(list1)):  # 遍历所有二级目录\n",
    "\t\tlist2 = os.path.join(path, list1[j])\n",
    "\t\tlist3 = os.listdir(list2)\n",
    "\t\t# print(list3)\n",
    "\t\t# print(list2)\n",
    "\t\tfor k in range(0, len(list3)):\n",
    "\t\t\tlist4 = os.path.join(list2, list3[k])\n",
    "\t\t\tprint(list4)\n",
    "\t\t\tif os.path.isdir(list4):\t\t #判断是否为文件夹\n",
    "\t\t\t\tfor item in os.listdir(list4): #遍历该文件夹中的所有文件\n",
    "\t\t\t\t\tfull_path=os.path.join(list4,item) #将文件目录与文件名连接起来，形成原来完整路径\n",
    "\t\t\t\t\tdes_path=\"/home/zzh/Desktop/amd/data/fruitveg81/apples/\"  #目标路径\n",
    "\t\t\t\t\tname = list[i] + list1[j] + list3[k] + item\n",
    "\t\t\t\t\tshutil.copy(full_path,des_path+name)  #移动文件到目标路径\n",
    "\t\t\t\t\t# print(full_path)\n",
    "\t\t\t\t\t# print(des_path)\t"
   ]
  },
  {
   "cell_type": "code",
   "execution_count": 7,
   "metadata": {},
   "outputs": [],
   "source": [
    "# copy all data\n",
    "\n",
    "import os\n",
    "import shutil\n",
    " \n",
    "#想要移动文件所在的根目录\n",
    "rootdir=\"/home/zzh/Desktop/amd/data/fruitveg81\"\n",
    "#获取目录下文件名清单\n",
    "classes = os.listdir(rootdir)\n",
    "# print(list)\n",
    " \n",
    "#移动图片到指定文件夹\n",
    "for c in range(0, len(classes)):\n",
    "\tpath0=os.path.join(rootdir, classes[c])\n",
    "\tlist = os.listdir(path0)\n",
    "\tfor i in range(0,len(list)):     #遍历目录下的所有一级文件夹  ['apple_red_yellow', 'apple_green_yellow', 'apple_red']\n",
    "\t\tpath=os.path.join(path0,list[i]) \n",
    "\t\tlist1 = os.listdir(path)  # 获取二级文件夹  ['braeburn', 'pink_lady', 'elstar', 'gala', 'red_loose', 'summerred'] ['granny_smith', 'golden_delicious'] ['evelina']\n",
    "\t\tfor j in range(0, len(list1)):  # 遍历所有二级目录\n",
    "\t\t\tlist2 = os.path.join(path, list1[j])\n",
    "\t\t\tlist3 = os.listdir(list2)\n",
    "\t\t\tfor k in range(0, len(list3)):\n",
    "\t\t\t\tlist4 = os.path.join(list2, list3[k])\n",
    "\t\t\t\t# print(list4)\n",
    "\t\t\t\tif os.path.isdir(list4):\t\t #判断是否为文件夹\n",
    "\t\t\t\t\tfor item in os.listdir(list4): #遍历该文件夹中的所有文件\n",
    "\t\t\t\t\t\tfull_path=os.path.join(list4,item) #将文件目录与文件名连接起来，形成原来完整路径\n",
    "\t\t\t\t\t\tdes_path=\"/home/zzh/Desktop/amd/data/fruitveg81/\"  #目标路径\n",
    "\t\t\t\t\t\tname = classes[c] + '/' + list[i] + list1[j] + list3[k] + item\n",
    "\t\t\t\t\t\tshutil.copy(full_path,des_path+name)  #移动文件到目标路径"
   ]
  },
  {
   "cell_type": "code",
   "execution_count": 44,
   "metadata": {},
   "outputs": [],
   "source": [
    "# divide train and val\n",
    "import os\n",
    "import shutil\n",
    "import random\n",
    " \n",
    "#想要移动文件所在的根目录\n",
    "rootdir=\"/home/zzh/Desktop/amd/data/fruitveg81\"\n",
    "#获取目录下文件名清单\n",
    "classes = os.listdir(rootdir)\n",
    "# print(classes)\n",
    "\n",
    "a = random.randint(1, 10)\n",
    "b = random.randint(1, 10)\n",
    " \n",
    "#移动图片到指定文件夹\n",
    "for c in range(0, len(classes)):\n",
    "\tpath = os.path.join(rootdir, classes[c])\n",
    "\t\n",
    "\t# list = os.listdir(path)\n",
    "\t# print(list)\n",
    "\tif os.path.isdir(path):  # 判断是否为文件夹\n",
    "\t\tfor item in os.listdir(path): #遍历该文件夹中的所有文件\n",
    "\t\t\tfull_path=os.path.join(path,item)  # 将文件目录与文件名连接起来，形成原来完整路径\n",
    "\t\t\ttrain_path = \"/home/zzh/Desktop/amd/data/train/\"  # train路径\n",
    "\t\t\tval_path = \"/home/zzh/Desktop/amd/data/val/\"  # val路径\n",
    "\t\t\tname = classes[c] + '/' + item\n",
    "\t\t\tif random.randint(1, 10) <= 8:\n",
    "\t\t\t\tshutil.copy(full_path,train_path+name)  #移动文件到目标路径\n",
    "\t\t\telse:\n",
    "\t\t\t\tshutil.copy(full_path,val_path+name)  #移动文件到目标路径\n"
   ]
  },
  {
   "cell_type": "code",
   "execution_count": 53,
   "metadata": {},
   "outputs": [
    {
     "name": "stdout",
     "output_type": "stream",
     "text": [
      "53\n"
     ]
    }
   ],
   "source": [
    "# compute the number of every class\n",
    "import os\n",
    "import shutil\n",
    "import random\n",
    " \n",
    "#文件所在的根目录\n",
    "rootdir=\"/home/zzh/Desktop/amd/data/fruitveg81\"\n",
    "#获取目录下文件名清单\n",
    "classes = os.listdir(rootdir)\n",
    "# print(classes)\n",
    "\n",
    "a = random.randint(1, 10)\n",
    "b = random.randint(1, 10)\n",
    "\n",
    "class_num = []\n",
    "\n",
    "#移动图片到指定文件夹\n",
    "for c in range(0, len(classes)):\n",
    "\tcnt = 0\n",
    "\tpath = os.path.join(rootdir, classes[c])\n",
    "\t# print(path)\n",
    "\tif os.path.isdir(path):  # 判断是否为文件夹\n",
    "\t\tfor item in os.listdir(path): #遍历该文件夹中的所有文件\n",
    "\t\t\t# print(item)  # red_beetred_beet_loosemotg-0img-0.jpg\n",
    "\t\t\tcnt = cnt + 1\n",
    "\t\tclass_num.append(cnt)\n",
    "\t\t\n",
    "print(len(class_num))\n",
    "\t\t\t"
   ]
  },
  {
   "cell_type": "code",
   "execution_count": 2,
   "metadata": {},
   "outputs": [
    {
     "data": {
      "text/plain": [
       "tensor([3.5828e+36, 4.5880e-41, 4.2039e-45,  ..., 0.0000e+00, 0.0000e+00,\n",
       "        0.0000e+00])"
      ]
     },
     "execution_count": 2,
     "metadata": {},
     "output_type": "execute_result"
    }
   ],
   "source": [
    "import torch\n",
    "torch.tensor(2**14)  # tensor(16384)\n",
    "torch.Tensor(2 ** 14)"
   ]
  }
 ],
 "metadata": {
  "kernelspec": {
   "display_name": "base",
   "language": "python",
   "name": "python3"
  },
  "language_info": {
   "codemirror_mode": {
    "name": "ipython",
    "version": 3
   },
   "file_extension": ".py",
   "mimetype": "text/x-python",
   "name": "python",
   "nbconvert_exporter": "python",
   "pygments_lexer": "ipython3",
   "version": "3.10.9"
  },
  "orig_nbformat": 4
 },
 "nbformat": 4,
 "nbformat_minor": 2
}
